{
  "nbformat": 4,
  "nbformat_minor": 0,
  "metadata": {
    "colab": {
      "provenance": [],
      "authorship_tag": "ABX9TyMloqZeqjfbHM68JxYPLupA",
      "include_colab_link": true
    },
    "kernelspec": {
      "name": "python3",
      "display_name": "Python 3"
    },
    "language_info": {
      "name": "python"
    }
  },
  "cells": [
    {
      "cell_type": "markdown",
      "metadata": {
        "id": "view-in-github",
        "colab_type": "text"
      },
      "source": [
        "<a href=\"https://colab.research.google.com/github/Oatthapong/Python/blob/main/Data_Transformation.ipynb\" target=\"_parent\"><img src=\"https://colab.research.google.com/assets/colab-badge.svg\" alt=\"Open In Colab\"/></a>"
      ]
    },
    {
      "cell_type": "markdown",
      "source": [
        "# นำเข้า Library เเละสร้างข้อมูล"
      ],
      "metadata": {
        "id": "lTXkL-uG8mJd"
      }
    },
    {
      "cell_type": "code",
      "execution_count": null,
      "metadata": {
        "id": "TxqraB3m6wFu"
      },
      "outputs": [],
      "source": [
        "import pandas as pd"
      ]
    },
    {
      "cell_type": "code",
      "source": [
        "data = {\n",
        "    \"customer_id\": [101, 102, 103, 104, 105],\n",
        "    \"name\": [\"Alice\", \"Bob\", \"Charlie\", \"David\", \"Eve\"],\n",
        "    \"age\": [25, 30, 35, 40, 45],\n",
        "    \"gender\": [\"F\", \"M\", \"M\", \"M\", \"F\"],\n",
        "    \"purchase_amount\": [\"10000\", \"15000\", \"20000\", \"25000\", \"30000\"]\n",
        "}\n",
        "\n",
        "df = pd.DataFrame(data)\n",
        "print(df)"
      ],
      "metadata": {
        "colab": {
          "base_uri": "https://localhost:8080/"
        },
        "id": "DBDDWhR_7z9V",
        "outputId": "34dd3bce-6cb4-4738-e461-202634409df7"
      },
      "execution_count": null,
      "outputs": [
        {
          "output_type": "stream",
          "name": "stdout",
          "text": [
            "   customer_id     name  age gender purchase_amount\n",
            "0          101    Alice   25      F           10000\n",
            "1          102      Bob   30      M           15000\n",
            "2          103  Charlie   35      M           20000\n",
            "3          104    David   40      M           25000\n",
            "4          105      Eve   45      F           30000\n"
          ]
        }
      ]
    },
    {
      "cell_type": "code",
      "source": [
        "print(type(df))"
      ],
      "metadata": {
        "colab": {
          "base_uri": "https://localhost:8080/"
        },
        "id": "lYzOTYD29boz",
        "outputId": "65f7070e-ce49-4085-befd-b83a867f5b0b"
      },
      "execution_count": null,
      "outputs": [
        {
          "output_type": "stream",
          "name": "stdout",
          "text": [
            "<class 'pandas.core.frame.DataFrame'>\n"
          ]
        }
      ]
    },
    {
      "cell_type": "code",
      "source": [
        "df.info()"
      ],
      "metadata": {
        "colab": {
          "base_uri": "https://localhost:8080/"
        },
        "id": "OejDvckZ-R6j",
        "outputId": "1381c4ad-05af-4c31-90d1-0136b022725a"
      },
      "execution_count": null,
      "outputs": [
        {
          "output_type": "stream",
          "name": "stdout",
          "text": [
            "<class 'pandas.core.frame.DataFrame'>\n",
            "RangeIndex: 5 entries, 0 to 4\n",
            "Data columns (total 5 columns):\n",
            " #   Column           Non-Null Count  Dtype \n",
            "---  ------           --------------  ----- \n",
            " 0   customer_id      5 non-null      int64 \n",
            " 1   name             5 non-null      object\n",
            " 2   age              5 non-null      int64 \n",
            " 3   gender           5 non-null      object\n",
            " 4   purchase_amount  5 non-null      object\n",
            "dtypes: int64(2), object(3)\n",
            "memory usage: 332.0+ bytes\n"
          ]
        }
      ]
    },
    {
      "cell_type": "markdown",
      "source": [
        "# เปลี่ยนประเภทข้อมูล (Data Type Conversion)"
      ],
      "metadata": {
        "id": "UuASi_cu8wAT"
      }
    },
    {
      "cell_type": "code",
      "source": [
        "# แปลง purchase_amount\n",
        "df[\"purchase_amount\"] = pd.to_numeric(df[\"purchase_amount\"])\n",
        "print(df)"
      ],
      "metadata": {
        "colab": {
          "base_uri": "https://localhost:8080/"
        },
        "id": "1NmoPk6L8u9k",
        "outputId": "bf739bab-6382-4b20-d617-6296b1b4193b"
      },
      "execution_count": null,
      "outputs": [
        {
          "output_type": "stream",
          "name": "stdout",
          "text": [
            "   customer_id     name  age gender  purchase_amount\n",
            "0          101    Alice   25      F            10000\n",
            "1          102      Bob   30      M            15000\n",
            "2          103  Charlie   35      M            20000\n",
            "3          104    David   40      M            25000\n",
            "4          105      Eve   45      F            30000\n"
          ]
        }
      ]
    },
    {
      "cell_type": "markdown",
      "source": [
        "# เเปลงค่าข้อมูล (Mapping & Ecoding)"
      ],
      "metadata": {
        "id": "dtNhomRh-vSd"
      }
    },
    {
      "cell_type": "code",
      "source": [
        "print(df[\"gender\"].unique())  # ดูค่าทั้งหมดที่อยู่ในคอลัมน์ gender"
      ],
      "metadata": {
        "colab": {
          "base_uri": "https://localhost:8080/"
        },
        "id": "HBB-F5uBCMTP",
        "outputId": "950a1b2a-cd9a-41fa-b5ee-648148a3b788"
      },
      "execution_count": null,
      "outputs": [
        {
          "output_type": "stream",
          "name": "stdout",
          "text": [
            "['F' 'M']\n"
          ]
        }
      ]
    },
    {
      "cell_type": "code",
      "source": [
        "# เเปลงค่า gender เป็นตัวเลข (F เป็น 0 , M เป็น 1)\n",
        "df[\"gender\"] = df [\"gender\"].map({\"F\":0, \"M\":1})\n",
        "print(df)"
      ],
      "metadata": {
        "colab": {
          "base_uri": "https://localhost:8080/"
        },
        "id": "EH60bwGA-2CZ",
        "outputId": "9c43ef12-6276-4913-b368-8207baf3387c"
      },
      "execution_count": null,
      "outputs": [
        {
          "output_type": "stream",
          "name": "stdout",
          "text": [
            "   customer_id     name  age  gender  purchase_amount\n",
            "0          101    Alice   25       0            10000\n",
            "1          102      Bob   30       1            15000\n",
            "2          103  Charlie   35       1            20000\n",
            "3          104    David   40       1            25000\n",
            "4          105      Eve   45       0            30000\n"
          ]
        }
      ]
    },
    {
      "cell_type": "markdown",
      "source": [
        "# รวมข้อมูล (Merging & Concatenation)"
      ],
      "metadata": {
        "id": "JBcZqHk1EbrM"
      }
    },
    {
      "cell_type": "code",
      "source": [
        "# สร้าง DataFrame เพิ่มเติม\n",
        "data2 = {\n",
        "    \"customer_id\": [106, 107],\n",
        "    \"name\": [\"Frank\", \"Grace\"],\n",
        "    \"age\": [50, 55],\n",
        "    \"gender\": [\"1\", \"0\"],\n",
        "    \"purchase_amount\": [35000, 40000]\n",
        "}\n",
        "df2 = pd.DataFrame(data2)\n",
        "df_combined = pd.concat([df,df2], ignore_index=True)\n",
        "print(df_combined)"
      ],
      "metadata": {
        "colab": {
          "base_uri": "https://localhost:8080/"
        },
        "id": "DWqyFxmR-oKS",
        "outputId": "0b18583a-2e66-4579-8a96-6e6f923f746d"
      },
      "execution_count": null,
      "outputs": [
        {
          "output_type": "stream",
          "name": "stdout",
          "text": [
            "   customer_id     name  age gender  purchase_amount\n",
            "0          101    Alice   25      0            10000\n",
            "1          102      Bob   30      1            15000\n",
            "2          103  Charlie   35      1            20000\n",
            "3          104    David   40      1            25000\n",
            "4          105      Eve   45      0            30000\n",
            "5          106    Frank   50      1            35000\n",
            "6          107    Grace   55      0            40000\n"
          ]
        }
      ]
    },
    {
      "cell_type": "markdown",
      "source": [
        "# ปรับโครงสร้างข้อมูล (Pivot & Melt)"
      ],
      "metadata": {
        "id": "JANoRBmrE-tV"
      }
    },
    {
      "cell_type": "code",
      "source": [
        "df_melted = df.melt(id_vars=[\"customer_id\",\"name\"],var_name=\"Attribute\",value_name=\"Value\")\n",
        "print(df_melted)"
      ],
      "metadata": {
        "colab": {
          "base_uri": "https://localhost:8080/"
        },
        "id": "XkBigDXuFFhU",
        "outputId": "49f0db5c-d0cd-4333-e0f4-d15daa1c5c16"
      },
      "execution_count": null,
      "outputs": [
        {
          "output_type": "stream",
          "name": "stdout",
          "text": [
            "    customer_id     name        Attribute  Value\n",
            "0           101    Alice              age     25\n",
            "1           102      Bob              age     30\n",
            "2           103  Charlie              age     35\n",
            "3           104    David              age     40\n",
            "4           105      Eve              age     45\n",
            "5           101    Alice           gender      0\n",
            "6           102      Bob           gender      1\n",
            "7           103  Charlie           gender      1\n",
            "8           104    David           gender      1\n",
            "9           105      Eve           gender      0\n",
            "10          101    Alice  purchase_amount  10000\n",
            "11          102      Bob  purchase_amount  15000\n",
            "12          103  Charlie  purchase_amount  20000\n",
            "13          104    David  purchase_amount  25000\n",
            "14          105      Eve  purchase_amount  30000\n"
          ]
        }
      ]
    },
    {
      "cell_type": "markdown",
      "source": [
        "# ใช้ Aggregation เพื่อสรุปข้อมูล"
      ],
      "metadata": {
        "id": "SA4FA9UwHaKS"
      }
    },
    {
      "cell_type": "code",
      "source": [
        "df_summary = df.groupby(\"gender\")[\"purchase_amount\"].mean().reset_index()\n",
        "print(df_summary)"
      ],
      "metadata": {
        "colab": {
          "base_uri": "https://localhost:8080/"
        },
        "id": "GlS7qW8yHheS",
        "outputId": "d32e7cf1-732a-4e9f-c064-e162c2514afa"
      },
      "execution_count": null,
      "outputs": [
        {
          "output_type": "stream",
          "name": "stdout",
          "text": [
            "   gender  purchase_amount\n",
            "0       0          20000.0\n",
            "1       1          20000.0\n"
          ]
        }
      ]
    },
    {
      "cell_type": "code",
      "source": [
        "df_agepurchaseamount = df.groupby(\"age\")[\"purchase_amount\"].sum().reset_index()\n",
        "print(df_agepurchaseamount)"
      ],
      "metadata": {
        "colab": {
          "base_uri": "https://localhost:8080/"
        },
        "id": "te7Nmd-LJVFi",
        "outputId": "9c6ec4cb-089c-4d4c-972b-f765beec2b4c"
      },
      "execution_count": null,
      "outputs": [
        {
          "output_type": "stream",
          "name": "stdout",
          "text": [
            "   age  purchase_amount\n",
            "0   25            10000\n",
            "1   30            15000\n",
            "2   35            20000\n",
            "3   40            25000\n",
            "4   45            30000\n"
          ]
        }
      ]
    },
    {
      "cell_type": "code",
      "source": [
        "# กำหนดช่วงอายุ\n",
        "bins = [0, 29, 40, float(\"inf\")]  # แบ่งเป็น 3 กลุ่ม: <30, 30-40, >40\n",
        "labels = [\"<30\", \"30-40\", \">40\"]\n",
        "\n",
        "# สร้างคอลัมน์ใหม่ที่แบ่งกลุ่มอายุ\n",
        "df[\"age_group\"] = pd.cut(df[\"age\"], bins=bins, labels=labels)\n",
        "\n",
        "# แสดง DataFrame ที่มีคอลัมน์ age_group\n",
        "print(df)"
      ],
      "metadata": {
        "colab": {
          "base_uri": "https://localhost:8080/"
        },
        "id": "5gbMCbQHKpMe",
        "outputId": "df3f3095-50e8-439b-92a8-965b2b9600f9"
      },
      "execution_count": null,
      "outputs": [
        {
          "output_type": "stream",
          "name": "stdout",
          "text": [
            "   customer_id     name  age  gender  purchase_amount age_group\n",
            "0          101    Alice   25       0            10000       <30\n",
            "1          102      Bob   30       1            15000     30-40\n",
            "2          103  Charlie   35       1            20000     30-40\n",
            "3          104    David   40       1            25000     30-40\n",
            "4          105      Eve   45       0            30000       >40\n"
          ]
        }
      ]
    },
    {
      "cell_type": "code",
      "source": [
        "df_grouped = df.groupby(\"age_group\")[\"purchase_amount\"].mean().reset_index()\n",
        "\n",
        "# แสดงผลลัพธ์\n",
        "print(df_grouped)"
      ],
      "metadata": {
        "colab": {
          "base_uri": "https://localhost:8080/"
        },
        "id": "OazIdw4UKrbe",
        "outputId": "d8921152-ab80-46ec-b2f3-f38cf0cda266"
      },
      "execution_count": null,
      "outputs": [
        {
          "output_type": "stream",
          "name": "stdout",
          "text": [
            "  age_group  purchase_amount\n",
            "0       <30          10000.0\n",
            "1     30-40          20000.0\n",
            "2       >40          30000.0\n"
          ]
        },
        {
          "output_type": "stream",
          "name": "stderr",
          "text": [
            "<ipython-input-32-3fe49c225474>:1: FutureWarning: The default of observed=False is deprecated and will be changed to True in a future version of pandas. Pass observed=False to retain current behavior or observed=True to adopt the future default and silence this warning.\n",
            "  df_grouped = df.groupby(\"age_group\")[\"purchase_amount\"].mean().reset_index()\n"
          ]
        }
      ]
    }
  ]
}