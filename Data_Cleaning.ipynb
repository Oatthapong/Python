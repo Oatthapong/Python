{
  "nbformat": 4,
  "nbformat_minor": 0,
  "metadata": {
    "colab": {
      "provenance": [],
      "authorship_tag": "ABX9TyMNiOOBYHihiDl30w8uANE2",
      "include_colab_link": true
    },
    "kernelspec": {
      "name": "python3",
      "display_name": "Python 3"
    },
    "language_info": {
      "name": "python"
    }
  },
  "cells": [
    {
      "cell_type": "markdown",
      "metadata": {
        "id": "view-in-github",
        "colab_type": "text"
      },
      "source": [
        "<a href=\"https://colab.research.google.com/github/Oatthapong/Python/blob/main/Data_Cleaning.ipynb\" target=\"_parent\"><img src=\"https://colab.research.google.com/assets/colab-badge.svg\" alt=\"Open In Colab\"/></a>"
      ]
    },
    {
      "cell_type": "markdown",
      "source": [
        "# Data Cleaning (การทำความสะอาดข้อมูล)"
      ],
      "metadata": {
        "id": "zircIzS5rFtj"
      }
    },
    {
      "cell_type": "markdown",
      "source": [
        "# นำเข้า Library เเละสร้าง Data"
      ],
      "metadata": {
        "id": "_FAOs4pOrHJg"
      }
    },
    {
      "cell_type": "code",
      "execution_count": null,
      "metadata": {
        "id": "HweOtf_6not5"
      },
      "outputs": [],
      "source": [
        "import pandas as pd\n",
        "import numpy as np"
      ]
    },
    {
      "cell_type": "code",
      "source": [
        "#สร้างข้อมูล\n",
        "data = {\n",
        "    \"customer_id\": [101, 102, 103, 104, np.nan, 106, 106],  # มีค่าหาย\n",
        "    \"name\": [\"Alice\", \"Bob\", \"Charlie\", None, \"Eve\", \"Frank\", \"Frank\"],  # ค่าหาย (None)\n",
        "    \"age\": [25, 30, np.nan, 22, 28, -5, 40],  # ค่าหายและค่าผิดปกติ (-5)\n",
        "    \"salary\": [\"50000\", \"55000\", \"60000\", \"65000\", \"70000\", \"75000\", \"invalid\"],  # มีค่าที่ไม่ใช่ตัวเลข\n",
        "}\n",
        "\n",
        "df = pd.DataFrame(data)\n",
        "print(df)"
      ],
      "metadata": {
        "id": "nFeboNVdqTiZ",
        "colab": {
          "base_uri": "https://localhost:8080/"
        },
        "outputId": "7bafd0c3-2222-4546-b489-7f4e75cc1129"
      },
      "execution_count": null,
      "outputs": [
        {
          "output_type": "stream",
          "name": "stdout",
          "text": [
            "   customer_id     name   age   salary\n",
            "0        101.0    Alice  25.0    50000\n",
            "1        102.0      Bob  30.0    55000\n",
            "2        103.0  Charlie   NaN    60000\n",
            "3        104.0     None  22.0    65000\n",
            "4          NaN      Eve  28.0    70000\n",
            "5        106.0    Frank  -5.0    75000\n",
            "6        106.0    Frank  40.0  invalid\n"
          ]
        }
      ]
    },
    {
      "cell_type": "markdown",
      "source": [
        "# จัดการค่าหาย (Missing Data)"
      ],
      "metadata": {
        "id": "ZwxvgN_wriPw"
      }
    },
    {
      "cell_type": "code",
      "source": [
        "# เเทนที่ค่าหายด้วยค่าเฉลี่ย\n",
        "df[\"age\"].fillna(df[\"age\"].mean(), inplace=True)\n",
        "print(df)"
      ],
      "metadata": {
        "id": "Q-paqBgkrkLQ",
        "colab": {
          "base_uri": "https://localhost:8080/"
        },
        "outputId": "5106d55b-232b-4b20-a52e-efbee403feca"
      },
      "execution_count": null,
      "outputs": [
        {
          "output_type": "stream",
          "name": "stdout",
          "text": [
            "   customer_id     name        age   salary\n",
            "0        101.0    Alice  25.000000    50000\n",
            "1        102.0      Bob  30.000000    55000\n",
            "2        103.0  Charlie  23.333333    60000\n",
            "3        104.0     None  22.000000    65000\n",
            "4          NaN      Eve  28.000000    70000\n",
            "5        106.0    Frank  -5.000000    75000\n",
            "6        106.0    Frank  40.000000  invalid\n"
          ]
        },
        {
          "output_type": "stream",
          "name": "stderr",
          "text": [
            "<ipython-input-4-101235ce96ee>:2: FutureWarning: A value is trying to be set on a copy of a DataFrame or Series through chained assignment using an inplace method.\n",
            "The behavior will change in pandas 3.0. This inplace method will never work because the intermediate object on which we are setting values always behaves as a copy.\n",
            "\n",
            "For example, when doing 'df[col].method(value, inplace=True)', try using 'df.method({col: value}, inplace=True)' or df[col] = df[col].method(value) instead, to perform the operation inplace on the original object.\n",
            "\n",
            "\n",
            "  df[\"age\"].fillna(df[\"age\"].mean(), inplace=True)\n"
          ]
        }
      ]
    },
    {
      "cell_type": "code",
      "source": [
        "# ลบเเถวที่มี customer_id เป็น NaN\n",
        "df.dropna(subset=[\"customer_id\"],inplace=True)\n",
        "print(df)"
      ],
      "metadata": {
        "colab": {
          "base_uri": "https://localhost:8080/"
        },
        "id": "9a9R2g67kaq4",
        "outputId": "f8f4e804-37b2-42c9-8514-11b553698be5"
      },
      "execution_count": null,
      "outputs": [
        {
          "output_type": "stream",
          "name": "stdout",
          "text": [
            "   customer_id     name        age   salary\n",
            "0        101.0    Alice  25.000000    50000\n",
            "1        102.0      Bob  30.000000    55000\n",
            "2        103.0  Charlie  23.333333    60000\n",
            "3        104.0     None  22.000000    65000\n",
            "5        106.0    Frank  -5.000000    75000\n",
            "6        106.0    Frank  40.000000  invalid\n"
          ]
        }
      ]
    },
    {
      "cell_type": "code",
      "source": [
        "# เเทนค่าหายใน name ด้วย Unknown\n",
        "df[\"name\"].fillna(\"Unknown\",inplace=True)\n",
        "print(df)"
      ],
      "metadata": {
        "colab": {
          "base_uri": "https://localhost:8080/"
        },
        "id": "n2q0OnrCk0vl",
        "outputId": "ca0ebf0d-3e58-43f3-d484-db5361804bee"
      },
      "execution_count": null,
      "outputs": [
        {
          "output_type": "stream",
          "name": "stdout",
          "text": [
            "   customer_id     name        age   salary\n",
            "0        101.0    Alice  25.000000    50000\n",
            "1        102.0      Bob  30.000000    55000\n",
            "2        103.0  Charlie  23.333333    60000\n",
            "3        104.0  Unknown  22.000000    65000\n",
            "5        106.0    Frank  -5.000000    75000\n",
            "6        106.0    Frank  40.000000  invalid\n"
          ]
        },
        {
          "output_type": "stream",
          "name": "stderr",
          "text": [
            "<ipython-input-6-7e5309be97b7>:2: FutureWarning: A value is trying to be set on a copy of a DataFrame or Series through chained assignment using an inplace method.\n",
            "The behavior will change in pandas 3.0. This inplace method will never work because the intermediate object on which we are setting values always behaves as a copy.\n",
            "\n",
            "For example, when doing 'df[col].method(value, inplace=True)', try using 'df.method({col: value}, inplace=True)' or df[col] = df[col].method(value) instead, to perform the operation inplace on the original object.\n",
            "\n",
            "\n",
            "  df[\"name\"].fillna(\"Unknown\",inplace=True)\n"
          ]
        }
      ]
    },
    {
      "cell_type": "markdown",
      "source": [
        "# เเปลงประเภทข้อมูล (Data Type Conversion)"
      ],
      "metadata": {
        "id": "GQn525HylkxL"
      }
    },
    {
      "cell_type": "code",
      "source": [
        "# เเปลง salary เป็นตัวเลข (ถ้ามีค่าผิดปกติให้เป็น NaN)\n",
        "df[\"salary\"] = pd.to_numeric(df[\"salary\"], errors=\"coerce\")\n",
        "print(df)"
      ],
      "metadata": {
        "colab": {
          "base_uri": "https://localhost:8080/"
        },
        "id": "eMLs-XwAlr91",
        "outputId": "aca2df14-948e-48b8-becf-11121d582606"
      },
      "execution_count": null,
      "outputs": [
        {
          "output_type": "stream",
          "name": "stdout",
          "text": [
            "   customer_id     name        age   salary\n",
            "0        101.0    Alice  25.000000  50000.0\n",
            "1        102.0      Bob  30.000000  55000.0\n",
            "2        103.0  Charlie  23.333333  60000.0\n",
            "3        104.0  Unknown  22.000000  65000.0\n",
            "5        106.0    Frank  -5.000000  75000.0\n",
            "6        106.0    Frank  40.000000      NaN\n"
          ]
        }
      ]
    },
    {
      "cell_type": "code",
      "source": [
        "# เเปลง customer_id ให้เป็น int\n",
        "df[\"customer_id\"] = df[\"customer_id\"].astype(int)\n",
        "print(df)"
      ],
      "metadata": {
        "colab": {
          "base_uri": "https://localhost:8080/"
        },
        "id": "fNohN_9UnVze",
        "outputId": "09c8a8b1-1e83-44f9-ac31-f97379d396f1"
      },
      "execution_count": null,
      "outputs": [
        {
          "output_type": "stream",
          "name": "stdout",
          "text": [
            "   customer_id     name        age   salary\n",
            "0          101    Alice  25.000000  50000.0\n",
            "1          102      Bob  30.000000  55000.0\n",
            "2          103  Charlie  23.333333  60000.0\n",
            "3          104  Unknown  22.000000  65000.0\n",
            "5          106    Frank  -5.000000  75000.0\n",
            "6          106    Frank  40.000000      NaN\n"
          ]
        }
      ]
    },
    {
      "cell_type": "markdown",
      "source": [
        "# ลบค่าผิดปกติ (outliers)"
      ],
      "metadata": {
        "id": "dJIWTGFonoPz"
      }
    },
    {
      "cell_type": "code",
      "source": [
        "# กำจัดค่าอายุที่น้อยกว่า 0\n",
        "df = df[df[\"age\"] > 0 ]\n",
        "print(df)"
      ],
      "metadata": {
        "colab": {
          "base_uri": "https://localhost:8080/"
        },
        "id": "RvtqzSf1nyfI",
        "outputId": "fa15bcdf-64de-4474-c25a-f29e8302f0a8"
      },
      "execution_count": null,
      "outputs": [
        {
          "output_type": "stream",
          "name": "stdout",
          "text": [
            "   customer_id     name        age   salary\n",
            "0          101    Alice  25.000000  50000.0\n",
            "1          102      Bob  30.000000  55000.0\n",
            "2          103  Charlie  23.333333  60000.0\n",
            "3          104  Unknown  22.000000  65000.0\n",
            "6          106    Frank  40.000000      NaN\n"
          ]
        }
      ]
    },
    {
      "cell_type": "markdown",
      "source": [
        "# ลบข้อมูลซ้ำ (Duplicates)"
      ],
      "metadata": {
        "id": "NbFVJFwqoU78"
      }
    },
    {
      "cell_type": "code",
      "source": [
        "df.drop_duplicates(inplace=True)\n",
        "print(df)"
      ],
      "metadata": {
        "colab": {
          "base_uri": "https://localhost:8080/"
        },
        "id": "3TSltNVIoaWT",
        "outputId": "b02ca8f8-d9ca-4edb-a71f-ee03bace759f"
      },
      "execution_count": null,
      "outputs": [
        {
          "output_type": "stream",
          "name": "stdout",
          "text": [
            "   customer_id     name        age   salary\n",
            "0          101    Alice  25.000000  50000.0\n",
            "1          102      Bob  30.000000  55000.0\n",
            "2          103  Charlie  23.333333  60000.0\n",
            "3          104  Unknown  22.000000  65000.0\n",
            "6          106    Frank  40.000000      NaN\n"
          ]
        }
      ]
    }
  ]
}